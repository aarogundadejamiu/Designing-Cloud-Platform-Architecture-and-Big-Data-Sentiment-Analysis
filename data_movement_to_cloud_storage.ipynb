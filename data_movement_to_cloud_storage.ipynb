{
 "cells": [
  {
   "cell_type": "code",
   "execution_count": 21,
   "id": "13c72cef",
   "metadata": {},
   "outputs": [
    {
     "name": "stdout",
     "output_type": "stream",
     "text": [
      "  marketplace  customer_id       review_id  product_id  product_parent  \\\n",
      "0          US     53096384   R63J84G1LOX6R  1563890119       763187671   \n",
      "1          US     53096399  R1BALOA11Z06MT  1559947608       381720534   \n",
      "2          US     53096332  R1LLAY5W5PZUS4  0671701800       860650224   \n",
      "3          US     53096335  R3R9VTJ82FXECQ  0425132153       624269601   \n",
      "4          US     51747709  R1P5J3FNBWTFXY  0517122707       161411385   \n",
      "\n",
      "                                product_title product_category  star_rating  \\\n",
      "0  The Sandman Vol. 1: Preludes and Nocturnes            Books            4   \n",
      "1          The 22 Immutable Laws of Marketing            Books            4   \n",
      "2                                     Contact            Books            5   \n",
      "3                                  Good Omens            Books            5   \n",
      "4                     A Confederacy of Dunces            Books            5   \n",
      "\n",
      "   helpful_votes  total_votes vine verified_purchase  \\\n",
      "0              0            1    N                 N   \n",
      "1              0            0    N                 N   \n",
      "2              1            2    N                 N   \n",
      "3              0            0    N                 N   \n",
      "4              0            0    N                 N   \n",
      "\n",
      "                                     review_headline  \\\n",
      "0                            ignore the review below   \n",
      "1                                            awesome   \n",
      "2                          Read the book. It's good.   \n",
      "3   Funniest book ever written about the Anti-Christ   \n",
      "4  A winner that didn't last. Only a mothers love...   \n",
      "\n",
      "                                         review_body review_date  \n",
      "0  this is the first 8 issues of the series. it i...  1995-08-13  \n",
      "1  I've always been partial to immutable laws. Th...  1995-08-17  \n",
      "2  This is a book about first contact with aliens...  1995-08-30  \n",
      "3  This is quite possibly *the* funniest book I h...  1995-09-11  \n",
      "4  The story behind the book is almost better tha...  1995-10-17  \n"
     ]
    }
   ],
   "source": [
    "import pandas as pd\n",
    "import csv\n",
    "import warnings\n",
    "\n",
    "# Ignore warnings\n",
    "warnings.filterwarnings('ignore')\n",
    "\n",
    "# Set pandas to display all columns\n",
    "pd.set_option('display.max_columns', None)\n",
    "\n",
    "# Define the file path\n",
    "file_path = 'amazon_reviews_multilingual_US_v1_00.tsv'\n",
    "\n",
    "# Read the data into a pandas DataFrame\n",
    "df = pd.read_csv(file_path, sep='\\t', error_bad_lines=False, warn_bad_lines=True, quoting=csv.QUOTE_NONE)\n",
    "\n",
    "# Display the DataFrame\n",
    "print(df.head())"
   ]
  },
  {
   "cell_type": "code",
   "execution_count": 29,
   "id": "80f62ab1",
   "metadata": {},
   "outputs": [
    {
     "name": "stdout",
     "output_type": "stream",
     "text": [
      "The Dataframe has 6931166 and 15 columns\n"
     ]
    }
   ],
   "source": [
    "print(f\"The Dataframe has {df.shape[0]} and {df.shape[1]} columns\")"
   ]
  },
  {
   "cell_type": "code",
   "execution_count": 30,
   "id": "62208b27",
   "metadata": {},
   "outputs": [
    {
     "name": "stdout",
     "output_type": "stream",
     "text": [
      "File customer_reviews.csv uploaded to store-customer-data/customer_reviews.csv.\n"
     ]
    }
   ],
   "source": [
    "from google.oauth2 import service_account\n",
    "\n",
    "# Load service account credentials\n",
    "credentials = service_account.Credentials.from_service_account_file(\n",
    "    'customer-reviews-27821-d3e04d90f4f7.json')\n",
    "\n",
    "# Initialize the Google Cloud Storage client with credentials\n",
    "client = storage.Client(credentials=credentials)\n",
    "\n",
    "# Define the bucket name and the destination file name\n",
    "bucket_name = 'store-customer-data'\n",
    "destination_blob_name = 'customer_reviews.csv'\n",
    "\n",
    "# Get the bucket\n",
    "bucket = client.bucket(bucket_name)\n",
    "\n",
    "# Create a new blob and upload the file's content\n",
    "blob = bucket.blob(destination_blob_name)\n",
    "\n",
    "# Upload to cloud\n",
    "try:\n",
    "    blob.upload_from_filename(export_file_path)\n",
    "    print(f'File {export_file_path} uploaded to {bucket_name}/{destination_blob_name}.')\n",
    "except Exception as e:\n",
    "    print(f'Failed to upload file: {e}')"
   ]
  }
 ],
 "metadata": {
  "kernelspec": {
   "display_name": "Python 3 (ipykernel)",
   "language": "python",
   "name": "python3"
  },
  "language_info": {
   "codemirror_mode": {
    "name": "ipython",
    "version": 3
   },
   "file_extension": ".py",
   "mimetype": "text/x-python",
   "name": "python",
   "nbconvert_exporter": "python",
   "pygments_lexer": "ipython3",
   "version": "3.10.9"
  },
  "varInspector": {
   "cols": {
    "lenName": 16,
    "lenType": 16,
    "lenVar": 40
   },
   "kernels_config": {
    "python": {
     "delete_cmd_postfix": "",
     "delete_cmd_prefix": "del ",
     "library": "var_list.py",
     "varRefreshCmd": "print(var_dic_list())"
    },
    "r": {
     "delete_cmd_postfix": ") ",
     "delete_cmd_prefix": "rm(",
     "library": "var_list.r",
     "varRefreshCmd": "cat(var_dic_list()) "
    }
   },
   "types_to_exclude": [
    "module",
    "function",
    "builtin_function_or_method",
    "instance",
    "_Feature"
   ],
   "window_display": false
  }
 },
 "nbformat": 4,
 "nbformat_minor": 5
}
